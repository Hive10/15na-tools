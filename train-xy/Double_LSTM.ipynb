{
 "cells": [
  {
   "cell_type": "code",
   "execution_count": null,
   "metadata": {},
   "outputs": [],
   "source": [
    "# Import required packages\n",
    "import os\n",
    "import shutil\n",
    "\n",
    "import numpy as np\n",
    "import sklearn.utils as sku\n",
    "\n",
    "import Config as conf\n",
    "import CSV as csv"
   ]
  },
  {
   "cell_type": "code",
   "execution_count": null,
   "metadata": {
    "scrolled": true
   },
   "outputs": [],
   "source": [
    "# Set LOG_DIR & OUTPUT_DIR\n",
    "LOG_DIR = conf.LOG_DIR.format('DLSTM')\n",
    "OUTPUT_DIR = conf.OUTPUT_DIR.format('DLSTM')\n",
    "\n",
    "# Import CSV data\n",
    "csi, label, size = csv.getWindows()"
   ]
  },
  {
   "cell_type": "code",
   "execution_count": null,
   "metadata": {},
   "outputs": [],
   "source": [
    "# Import Keras\n",
    "import tensorflow as tf\n",
    "import tensorflow.keras as keras\n",
    "import tensorflow.keras.callbacks as kc\n",
    "import tensorflow.keras.layers as kl\n",
    "import tensorflow.keras.models as km\n",
    "import tensorflow.keras.optimizers as ko\n",
    "import tensorflow.keras.utils as ku\n",
    "\n",
    "# Set CUDA (use what gpu?) -- comment this if use all GPUs\n",
    "os.environ[\"CUDA_VISIBLE_DEVICES\"]=\"0,1,2,3\"\n",
    "\n",
    "# Print tensorflow version\n",
    "print(\"Tensorflow:\", tf.__version__)\n",
    "print(\"Keras:\", keras.__version__)"
   ]
  },
  {
   "cell_type": "code",
   "execution_count": null,
   "metadata": {},
   "outputs": [],
   "source": [
    "# Setup Keras LSTM Model\n",
    "model = None\n",
    "strategy = tf.distribute.MirroredStrategy()\n",
    "\n",
    "with strategy.scope():\n",
    "    adam = ko.Adam(learning_rate=conf.LEARNING_RATE, amsgrad=True)\n",
    "    lstm1 = kl.LSTM(\n",
    "        256,\n",
    "        unit_forget_bias=True,\n",
    "        return_sequences=True,\n",
    "        input_shape=(size[0], size[1]))\n",
    "    lstm1.add_loss(lambda: 1e-8)\n",
    "    lstm2 = kl.LSTM(\n",
    "        64,\n",
    "        unit_forget_bias=True\n",
    "    )\n",
    "    lstm2.add_loss(lambda: 1e-8)\n",
    "    model = km.Sequential()\n",
    "    model.add(lstm1)\n",
    "    model.add(lstm2)\n",
    "    model.add(kl.Dense(conf.ACTION_CNT, activation=\"softmax\"))\n",
    "    model.compile(\n",
    "        loss=\"categorical_crossentropy\",\n",
    "        optimizer=adam,\n",
    "        metrics=[\"accuracy\"]\n",
    "    )\n",
    "    model.summary()"
   ]
  },
  {
   "cell_type": "code",
   "execution_count": null,
   "metadata": {},
   "outputs": [],
   "source": [
    "# Check output directory and prepare tensorboard\n",
    "if os.path.exists(OUTPUT_DIR):\n",
    "    shutil.rmtree(OUTPUT_DIR)\n",
    "os.makedirs(OUTPUT_DIR)\n",
    "if os.path.exists(LOG_DIR):\n",
    "    shutil.rmtree(LOG_DIR)\n",
    "os.makedirs(LOG_DIR)\n",
    "tensorboard = kc.TensorBoard(\n",
    "    log_dir=LOG_DIR,\n",
    "    write_graph=True,\n",
    "    write_images=True,\n",
    "    update_freq=10)\n",
    "print(\n",
    "    \"Your tensorboard command is:\"\n",
    ")\n",
    "print(\"    tensorboard --logdir=\" + LOG_DIR)\n",
    "print(\"Keras checkpoints and final result will be saved in here:\")\n",
    "print(\"    \" + OUTPUT_DIR)"
   ]
  },
  {
   "cell_type": "code",
   "execution_count": null,
   "metadata": {
    "scrolled": false
   },
   "outputs": [],
   "source": [
    "# Run KFold\n",
    "xx, yy = sku.shuffle(csi, label, random_state=0)\n",
    "for i in range(conf.KFOLD):\n",
    "    # Roll the data\n",
    "    xx = np.roll(xx, int(len(xx) / conf.KFOLD), axis=0)\n",
    "    yy = np.roll(yy, int(len(yy) / conf.KFOLD), axis=0)\n",
    "\n",
    "    # Data separation\n",
    "    xTrain = xx[int(len(xx) / conf.KFOLD):]\n",
    "    yTrain = yy[int(len(yy) / conf.KFOLD):]\n",
    "    xEval = xx[:int(len(xx) / conf.KFOLD)]\n",
    "    yEval = yy[:int(len(yy) / conf.KFOLD)]\n",
    "\n",
    "    # If there exists only one action, convert Y to binary form\n",
    "    if yEval.shape[1] == 1:\n",
    "        yTrain = ku.to_categorical(yTrain)\n",
    "        yEval = ku.to_categorical(yEval)\n",
    "\n",
    "    # Setup Keras Checkpoint\n",
    "    checkpoint = kc.ModelCheckpoint(OUTPUT_DIR + \"K\" + str(i + 1) + \"_A{val_accuracy:.6f}_L{val_loss:.6f}.h5\")\n",
    "\n",
    "    # Fit model (learn)\n",
    "    print(str(i + 1) + \" th fitting started. Endpoint is \" + str(conf.KFOLD) + \" th.\")\n",
    "    model.fit(\n",
    "        xTrain,\n",
    "        yTrain,\n",
    "        epochs=conf.EPOCH_CNT,\n",
    "        batch_size=conf.BATCH_SIZE,\n",
    "        shuffle=True,\n",
    "        verbose=1,\n",
    "        callbacks=[tensorboard, checkpoint],\n",
    "        validation_data=(xEval, yEval),\n",
    "        validation_freq=1,\n",
    "        use_multiprocessing=True)\n",
    "print(\"Epoch completed!\")"
   ]
  },
  {
   "cell_type": "code",
   "execution_count": null,
   "metadata": {},
   "outputs": [],
   "source": [
    "# Saving model\n",
    "print(\"Saving model & model information...\")\n",
    "modelYML = model.to_yaml()\n",
    "with open(OUTPUT_DIR + \"model.yml\", \"w\") as yml:\n",
    "    yml.write(modelYML)\n",
    "modelJSON = model.to_json()\n",
    "with open(OUTPUT_DIR + \"model.json\", \"w\") as json:\n",
    "    json.write(modelJSON)\n",
    "model.save(OUTPUT_DIR + \"model.h5\")\n",
    "print('Model saved!')"
   ]
  },
  {
   "cell_type": "code",
   "execution_count": null,
   "metadata": {},
   "outputs": [],
   "source": [
    "# Finished"
   ]
  }
 ],
 "metadata": {
  "kernelspec": {
   "display_name": "Python 3",
   "language": "python",
   "name": "python3"
  },
  "language_info": {
   "codemirror_mode": {
    "name": "ipython",
    "version": 3
   },
   "file_extension": ".py",
   "mimetype": "text/x-python",
   "name": "python",
   "nbconvert_exporter": "python",
   "pygments_lexer": "ipython3",
   "version": "3.6.8"
  }
 },
 "nbformat": 4,
 "nbformat_minor": 2
}
