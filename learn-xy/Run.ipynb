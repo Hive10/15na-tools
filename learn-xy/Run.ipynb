{
 "cells": [
  {
   "cell_type": "code",
   "execution_count": null,
   "metadata": {},
   "outputs": [],
   "source": [
    "# Import required packages\n",
    "import os\n",
    "import shutil\n",
    "\n",
    "import keras.callbacks as kc\n",
    "import keras.optimizers as ko\n",
    "import keras.utils as ku\n",
    "import numpy as np\n",
    "import sklearn.utils as sku\n",
    "\n",
    "import Config as conf\n",
    "import CSV as csv\n",
    "\n",
    "from DenseNet import DenseNet"
   ]
  },
  {
   "cell_type": "code",
   "execution_count": null,
   "metadata": {},
   "outputs": [],
   "source": [
    "# Import & shuffle CSV data\n",
    "xs, ys = csv.getCSV()\n",
    "for a in conf.ACTIONS:\n",
    "    xs[a], ys[a] = sku.shuffle(xs[a], ys[a], random_state=0)"
   ]
  },
  {
   "cell_type": "code",
   "execution_count": null,
   "metadata": {},
   "outputs": [],
   "source": [
    "# Setup Keras DenseNet Model (DenseNet-BC)\n",
    "nadam = ko.Nadam(lr=conf.LEARNING_RATE)\n",
    "model = DenseNet(\n",
    "    input_shape=(conf.WINDOW_SIZE, conf.N_COLUMNS, 1),\n",
    "    dense_blocks=5,\n",
    "    growth_rate=conf.N_FILTERS,\n",
    "    nb_classes=conf.N_VALID_CLASSES,\n",
    "    dropout_rate=0.2,\n",
    "    bottleneck=True,\n",
    "    compression=0.5,\n",
    "    weight_decay=1e-4,\n",
    "    depth=conf.DEPTH\n",
    ").build_model()\n",
    "model.compile(\n",
    "    loss=\"categorical_crossentropy\", optimizer=nadam, metrics=[\"accuracy\"])"
   ]
  },
  {
   "cell_type": "code",
   "execution_count": null,
   "metadata": {},
   "outputs": [],
   "source": [
    "# Check output directory and prepare tensorboard\n",
    "outputDir = conf.OUTPUT_PATH.format(conf.LEARNING_RATE, conf.BATCH_SIZE,\n",
    "                                    conf.N_FILTERS, \"\")\n",
    "if os.path.exists(outputDir):\n",
    "    shutil.rmtree(outputDir)\n",
    "os.makedirs(outputDir)\n",
    "logDir = conf.LOG_PATH.format(conf.LEARNING_RATE, conf.BATCH_SIZE,\n",
    "                              conf.N_FILTERS, \"\")\n",
    "if os.path.exists(logDir):\n",
    "    shutil.rmtree(logDir)\n",
    "os.makedirs(logDir)\n",
    "tensorboard = kc.TensorBoard(\n",
    "    log_dir=logDir,\n",
    "    histogram_freq=0,\n",
    "    batch_size=conf.BATCH_SIZE,\n",
    "    write_graph=True,\n",
    "    write_grads=True,\n",
    "    write_images=True,\n",
    "    update_freq=10)\n",
    "print(\n",
    "    \"If you have tensorboard in this environment, you can type below to see the result in tensorboard:\"\n",
    ")\n",
    "print(\"    tensorboard --logdir=\" + logDir)\n",
    "print(\"Keras checkpoints and final result will be saved in here:\")\n",
    "print(\"    \" + outputDir)"
   ]
  },
  {
   "cell_type": "code",
   "execution_count": null,
   "metadata": {},
   "outputs": [],
   "source": [
    "# Run KFold\n",
    "for i in range(conf.KFOLD):\n",
    "    # Roll the data\n",
    "    for a in conf.ACTIONS:\n",
    "        xs[a] = np.roll(xs[a], int(len(xs[a]) / conf.KFOLD), axis=0)\n",
    "        ys[a] = np.roll(ys[a], int(len(ys[a]) / conf.KFOLD), axis=0)\n",
    "\n",
    "    # Data separation\n",
    "    xTrain = []\n",
    "    yTrain = []\n",
    "    xEval = []\n",
    "    yEval = []\n",
    "    for a in conf.ACTIONS:\n",
    "        if xTrain == []:\n",
    "            xTrain = xs[a][int(len(xs[a]) / conf.KFOLD):]\n",
    "        else:\n",
    "            xTrain = np.r_[xTrain, xs[a][int(len(xs[a]) / conf.KFOLD):]]\n",
    "        if yTrain == []:\n",
    "            yTrain = ys[a][int(len(ys[a]) / conf.KFOLD):]\n",
    "        else:\n",
    "            yTrain = np.r_[yTrain, ys[a][int(len(ys[a]) / conf.KFOLD):]]\n",
    "        if xEval == []:\n",
    "            xEval = xs[a][:int(len(xs[a]) / conf.KFOLD)]\n",
    "        else:\n",
    "            xEval = np.r_[xEval, xs[a][:int(len(xs[a]) / conf.KFOLD)]]\n",
    "        if yEval == []:\n",
    "            yEval = ys[a][:int(len(ys[a]) / conf.KFOLD)]\n",
    "        else:\n",
    "            yEval = np.r_[yEval, ys[a][:int(len(ys[a]) / conf.KFOLD)]]\n",
    "\n",
    "    if not conf.USE_NOACTIVITY:\n",
    "        # Remove NoActivity from ys\n",
    "        yTrain = yTrain[:, 1:]\n",
    "        yEval = yEval[:, 1:]\n",
    "\n",
    "        # If there exists only one action, convert Y to binary form\n",
    "        if yEval.shape[1] == 1:\n",
    "            yTrain = ku.to_categorical(yTrain)\n",
    "            yEval = ku.to_categorical(yEval)\n",
    "\n",
    "    # Setup Keras Checkpoint\n",
    "    checkpoint = kc.ModelCheckpoint(\n",
    "        outputDir + \"Checkpoint_K\" + str(i + 1) + \"_EPOCH{epoch}_ACC{val_acc:.6f}.h5\", period=conf.CP_PERIOD)\n",
    "\n",
    "    # Fit model (learn)\n",
    "    print(\n",
    "        str(i + 1) + \" th fitting started. Endpoint is \" + str(conf.KFOLD) +\n",
    "        \" th.\")\n",
    "\n",
    "    model.fit(\n",
    "        xTrain,\n",
    "        yTrain,\n",
    "        batch_size=conf.BATCH_SIZE,\n",
    "        epochs=conf.N_EPOCH,\n",
    "        verbose=1,\n",
    "        callbacks=[tensorboard, checkpoint],\n",
    "        validation_data=(xEval, yEval))  # , validation_freq=2)\n",
    "print(\"Epoch completed!\")"
   ]
  },
  {
   "cell_type": "code",
   "execution_count": null,
   "metadata": {},
   "outputs": [],
   "source": [
    "# Saving model\n",
    "print(\"Saving model & model information...\")\n",
    "modelYML = model.to_yaml()\n",
    "with open(outputDir + \"model.yml\", \"w\") as yml:\n",
    "    yml.write(modelYML)\n",
    "modelJSON = model.to_json()\n",
    "with open(outputDir + \"model.json\", \"w\") as json:\n",
    "    json.write(modelJSON)\n",
    "model.save(outputDir + \"model.h5\")\n",
    "print('Model saved! Congratulations! You finished all processes of ML!')"
   ]
  },
  {
   "cell_type": "code",
   "execution_count": null,
   "metadata": {},
   "outputs": [],
   "source": [
    "# Finished"
   ]
  }
 ],
 "metadata": {
  "kernelspec": {
   "display_name": "Python 3",
   "language": "python",
   "name": "python3"
  },
  "language_info": {
   "codemirror_mode": {
    "name": "ipython",
    "version": 3
   },
   "file_extension": ".py",
   "mimetype": "text/x-python",
   "name": "python",
   "nbconvert_exporter": "python",
   "pygments_lexer": "ipython3",
   "version": "3.6.8"
  }
 },
 "nbformat": 4,
 "nbformat_minor": 2
}
