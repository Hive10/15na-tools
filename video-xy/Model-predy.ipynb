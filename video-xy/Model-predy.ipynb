{
 "cells": [
  {
   "cell_type": "code",
   "execution_count": null,
   "metadata": {},
   "outputs": [],
   "source": [
    "import gc\n",
    "import sys\n",
    "import cv2\n",
    "import progressbar as pb\n",
    "import numpy as np\n",
    "import keras.optimizers as ko\n",
    "import keras.models as km\n",
    "import matplotlib.pyplot as plt\n",
    "from io import BytesIO\n",
    "from common import *"
   ]
  },
  {
   "cell_type": "code",
   "execution_count": null,
   "metadata": {},
   "outputs": [],
   "source": [
    "# Define common function\n",
    "def createGraph(scores):\n",
    "    pltLegend = []\n",
    "    pltFigure = plt.figure()\n",
    "    pltImage = BytesIO()\n",
    "    plt.bar(conf.ACTIONS, scores, figure=pltFigure)\n",
    "    plt.ylabel('Prediction Accuracy', figure=pltFigure)\n",
    "    plt.ylim(0, 1)\n",
    "    pltFigure.savefig(pltImage, format='png')\n",
    "    plt.close(pltFigure)\n",
    "    pltImage.seek(0)\n",
    "    cvImage = cv2.imdecode(np.asarray(\n",
    "        bytearray(pltImage.read()), dtype=np.uint8), cv2.IMREAD_COLOR)\n",
    "    return cvImage"
   ]
  },
  {
   "cell_type": "code",
   "execution_count": null,
   "metadata": {},
   "outputs": [],
   "source": [
    "# Set File Names\n",
    "fileName = \"cs10.csv\"\n",
    "modelName = \"model.h5\"\n",
    "modelProp = \"model.yml\"\n",
    "enablePred = True\n",
    "enableClsf = True"
   ]
  },
  {
   "cell_type": "code",
   "execution_count": null,
   "metadata": {},
   "outputs": [],
   "source": [
    "# Load CSV & Calculate necessary frames\n",
    "print(\"[1/7] Reading & Converting CSV ( \" + fileName + \" ) ...\")\n",
    "nx = getNx(fileName)\n",
    "nnx = np.copy(nx)\n",
    "mx = np.empty([0, conf.WINDOW_SIZE, conf.N_COLUMNS], float)\n",
    "while True:\n",
    "    if len(nx) < conf.WINDOW_SIZE:\n",
    "        break\n",
    "    else:\n",
    "        window = np.dstack(\n",
    "            nnx[0:conf.WINDOW_SIZE,\n",
    "                   conf.COL_START:conf.COL_START + conf.N_COLUMNS].T\n",
    "        )\n",
    "        mx = np.concatenate((mx, window), axis=0)\n",
    "        nnx = nnx[conf.SLIDE_SIZE:, :]\n",
    "del nnx\n",
    "mx = mx[..., np.newaxis]\n",
    "print(\"[2/7] Calculating necessary frames...\")\n",
    "frameIdx = getNecessaryFrameIdx(nx)\n",
    "frameLen = len(frameIdx)"
   ]
  },
  {
   "cell_type": "code",
   "execution_count": null,
   "metadata": {},
   "outputs": [],
   "source": [
    "# Load keras model and classify each slide\n",
    "print(\"[3/7] Load Keras model...\")\n",
    "nadam = ko.Nadam(lr=conf.LEARNING_RATE)\n",
    "modelPropRaw = open(modelProp, 'r')\n",
    "if 'json' in modelProp:\n",
    "    model = km.model_from_json(modelPropRaw)\n",
    "else:\n",
    "    model = km.model_from_yaml(modelPropRaw)\n",
    "model.load_weights(modelName)\n",
    "model.compile(loss=\"categorical_crossentropy\", optimizer=nadam, metrics=[\"accuracy\"])\n",
    "print(\"[4/7] Classify each slides...\")\n",
    "scores = model.predict(mx)\n",
    "if conf.USE_NOACTIVITY == True:\n",
    "    scores = scores[:, 1:]\n",
    "elif conf.USE_CUSTOM_NOACTIVITY == True and conf.VID_DELCUSTOMNA == True:\n",
    "    scores = np.delete(scores, conf.CUSTOM_NOACTIVITY_NO, 0)"
   ]
  },
  {
   "cell_type": "code",
   "execution_count": null,
   "metadata": {},
   "outputs": [],
   "source": [
    "# Calculate frame-prediction matches\n",
    "print(\"[5/7] Calculating frame-prediction matchings...\")\n",
    "ny = []\n",
    "frameMatching = []\n",
    "lastFrame = -1\n",
    "for fn in frameIdx:\n",
    "    if fn < conf.WINDOW_SIZE:\n",
    "        frameMatching.append(-1)\n",
    "    elif nx.shape[0] - fn - 1 < conf.WINDOW_SIZE:\n",
    "        frameMatching.append(lastFrame)\n",
    "    else:\n",
    "        frameMatching.append(int((fn - conf.WINDOW_SIZE) / conf.SLIDE_SIZE))\n",
    "for sc in scores:\n",
    "    maxIdx = np.array(sc).argmax()\n",
    "    if sc[maxIdx] >= conf.VID_THRESHOLD:\n",
    "        ny.append(maxIdx)\n",
    "    else:\n",
    "        ny.append(-1)"
   ]
  },
  {
   "cell_type": "code",
   "execution_count": null,
   "metadata": {},
   "outputs": [],
   "source": [
    "# Calculate graphs\n",
    "print(\"[6/7] Creating graphs and color pages...\")\n",
    "barIdx = 0\n",
    "predFrames = []\n",
    "scoreGraphs = []\n",
    "clfFrames = []\n",
    "ebgImage = createGraph(np.zeros(conf.N_VALID_CLASSES))\n",
    "if enablePred == True:\n",
    "    for s in scores:\n",
    "        scoreGraphs.append(createGraph(s))\n",
    "with pb.ProgressBar(max_value=frameLen) as bar:\n",
    "    for p in frameMatching:\n",
    "        if enableClsf == True:\n",
    "            if p == -1 or ny[p] == -1:\n",
    "                clfFrames.append(getRed())\n",
    "            else:\n",
    "                colorFrame = np.copy(getGreen())\n",
    "                cv2.putText(\n",
    "                    colorFrame,\n",
    "                    conf.ACTIONS[int(ny[p])],\n",
    "                    (30, conf.VID_CSIY_Y - 15 * conf.VID_FONTSIZE),\n",
    "                    conf.VID_FONT,\n",
    "                    conf.VID_FONTSIZE,\n",
    "                    (0, 0, 0),\n",
    "                    10\n",
    "                )\n",
    "                clfFrames.append(colorFrame)\n",
    "        if enablePred == True:\n",
    "            if p == -1:\n",
    "                predFrames.append(ebgImage)\n",
    "            else:\n",
    "                predFrames.append(scoreGraphs[p])\n",
    "        barIdx += 1\n",
    "        bar.update(barIdx)"
   ]
  },
  {
   "cell_type": "code",
   "execution_count": null,
   "metadata": {},
   "outputs": [],
   "source": [
    "# Save as mp4 video\n",
    "predVideoName = conf.VID_NAME.format(\n",
    "    fileName[:fileName.index('.')], 'pred')\n",
    "clfVideoName = conf.VID_NAME.format(\n",
    "    fileName[:fileName.index('.')], 'clfy')\n",
    "print(\"[7/7] Saving in \" + predVideoName + \" and \" + clfVideoName + \" ...\")\n",
    "if enablePred == True:\n",
    "    saveVideo(predVideoName, predFrames)\n",
    "if enableClsf == True:\n",
    "    saveVideo(clfVideoName, clfFrames)"
   ]
  },
  {
   "cell_type": "code",
   "execution_count": null,
   "metadata": {},
   "outputs": [],
   "source": [
    "#Finished. Display scores for problem-solving.\n",
    "scores"
   ]
  }
 ],
 "metadata": {
  "kernelspec": {
   "display_name": "Python 3",
   "language": "python",
   "name": "python3"
  },
  "language_info": {
   "codemirror_mode": {
    "name": "ipython",
    "version": 3
   },
   "file_extension": ".py",
   "mimetype": "text/x-python",
   "name": "python",
   "nbconvert_exporter": "python",
   "pygments_lexer": "ipython3",
   "version": "3.6.7"
  }
 },
 "nbformat": 4,
 "nbformat_minor": 2
}
