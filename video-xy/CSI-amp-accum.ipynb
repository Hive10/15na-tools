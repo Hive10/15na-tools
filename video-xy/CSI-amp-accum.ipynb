{
 "cells": [
  {
   "cell_type": "code",
   "execution_count": null,
   "metadata": {},
   "outputs": [],
   "source": [
    "import gc\n",
    "import sys\n",
    "import cv2\n",
    "import progressbar as pb\n",
    "import matplotlib.pyplot as plt\n",
    "import numpy as np\n",
    "from io import BytesIO\n",
    "from common import *"
   ]
  },
  {
   "cell_type": "code",
   "execution_count": null,
   "metadata": {},
   "outputs": [],
   "source": [
    "# Set File Name\n",
    "fileName = \"csi_test.csv\"\n",
    "avgBeginTime = 44.416500\n",
    "avgEndTime = 46.624219"
   ]
  },
  {
   "cell_type": "code",
   "execution_count": null,
   "metadata": {},
   "outputs": [],
   "source": [
    "# Load CSV & Calculate necessary frames\n",
    "print(\"[1/6] Loading CSV ( \" + fileName + \" ) ...\")\n",
    "nx = getNx(fileName)\n",
    "print(\"[2/6] Calculating necessary frames...\")\n",
    "frameIdx = getNecessaryFrameIdx(nx)\n",
    "frameLen = len(frameIdx)"
   ]
  },
  {
   "cell_type": "code",
   "execution_count": null,
   "metadata": {},
   "outputs": [],
   "source": [
    "# Calculate avarage CSI and differences\n",
    "print(\"[3/6] Calculating average CSI...\")\n",
    "cutNx = None\n",
    "beginIdx = 0\n",
    "for idx, row in enumerate(nx):\n",
    "    if row[0] >= avgBeginTime:\n",
    "        beginIdx = idx\n",
    "        break\n",
    "for idx, row in reversed(list(enumerate(nx))):\n",
    "    if row[0] < avgEndTime:\n",
    "        cutNx = nx[beginIdx:idx, :]\n",
    "        break\n",
    "avgAmp = np.mean(cutNx, axis=0)\n",
    "print(\"[4/6] Calculating differences...\")\n",
    "diffNx = np.copy(nx) - avgAmp"
   ]
  },
  {
   "cell_type": "code",
   "execution_count": null,
   "metadata": {},
   "outputs": [],
   "source": [
    "# Calculate accumulated\n",
    "print(\"[5/6] Calculating accum...\")\n",
    "acNx = {}\n",
    "tsFPS = getFPS()\n",
    "xm, ym = np.meshgrid(np.array(range(30)), np.linspace(-10.0, 10.0, 600))\n",
    "for i in range(0, int((nx.shape[1] - 1) / 60)):\n",
    "    tsFrame = 2 * getFPS()\n",
    "    acNx[i] = {}\n",
    "    print(\"  -- Initialize\", i, \"TRP...\")\n",
    "    with pb.ProgressBar(max_value=len(frameIdx)) as bar:\n",
    "        for j in range(len(frameIdx)):\n",
    "            acNx[i][j] = np.zeros((600, 30))\n",
    "            bar.update(j)\n",
    "    print(\"  -- Calculate\", i, \"TRP...\")\n",
    "    with pb.ProgressBar(max_value=len(frameIdx)) as bar:\n",
    "        bar.update(0)\n",
    "        for idx, fidx in enumerate(frameIdx):\n",
    "            if idx + tsFrame >= len(frameIdx):\n",
    "                tsFrame = len(frameIdx) - idx - 1\n",
    "            for j in range(tsFrame):\n",
    "                for k in range(30):\n",
    "                    tenx = np.zeros(600)\n",
    "                    nmx = int(np.ceil(diffNx[fidx, (1 + 30 * i):(31 + 30 * i)][k] * 30 + 300))\n",
    "                    bold = (abs(diffNx[fidx, (1 + 30 * i):(31 + 30 * i)][k]) * (tsFrame - j) / tsFrame)\n",
    "                    if nmx >= 600:\n",
    "                        tenx[300:599] = bold\n",
    "                    elif nmx >= 300:\n",
    "                        tenx[300:nmx] = bold\n",
    "                    elif nmx < 0:\n",
    "                        tenx[0:300] = bold\n",
    "                    else:\n",
    "                        tenx[nmx:300] = bold\n",
    "                    acNx[i][idx + j][:, k] += tenx\n",
    "            bar.update(idx)"
   ]
  },
  {
   "cell_type": "code",
   "execution_count": null,
   "metadata": {},
   "outputs": [],
   "source": [
    "# Calculate graphs\n",
    "# HEY, BELIEVE YOUR VIRTUAL MEMORY!\n",
    "print(\"[6/6] Creating graphs in cv format and save them...\")\n",
    "for i in range(0, int((nx.shape[1] - 1) / 60)):\n",
    "    frames = []\n",
    "    barIdx = 0\n",
    "    gc.collect()\n",
    "    print(\"  -- Processing \" + str(i + 1) + \" th Tx-Rx Pair...\")\n",
    "    with pb.ProgressBar(max_value=frameLen) as bar:\n",
    "        for l, p in enumerate(frameIdx):\n",
    "            pltFigure = plt.figure()\n",
    "            pltImage = BytesIO()\n",
    "            plt.colorbar(plt.contourf(xm, ym, acNx[i][l], figure=pltFigure, vmin=0, vmax=250, cmap='jet'))\n",
    "            plt.xlabel('Subcarriers Group', figure=pltFigure)\n",
    "            plt.ylabel('Amplitude Diff Accum (dBm)', figure=pltFigure)\n",
    "            pltFigure.savefig(pltImage, format='png')\n",
    "            plt.close(pltFigure)\n",
    "            del pltFigure\n",
    "            pltImage.seek(0)\n",
    "            cvImage = cv2.imdecode(np.asarray(\n",
    "                bytearray(pltImage.read()), dtype=np.uint8), cv2.IMREAD_COLOR)\n",
    "            frames.append(cvImage)\n",
    "            barIdx += 1\n",
    "            bar.update(barIdx)\n",
    "    # Save as mp4 video\n",
    "    videoName = conf.VID_NAME.format(\n",
    "        fileName[:fileName.index('.')], \"amp-accum\" + str(i + 1))\n",
    "    print(\"  -- Saving in \" + videoName + \" ...\")\n",
    "    saveVideo(videoName, frames)\n",
    "    print(\"  -- Delete old data...\")\n",
    "    del frames\n",
    "print(\"Finished!\")"
   ]
  },
  {
   "cell_type": "code",
   "execution_count": null,
   "metadata": {},
   "outputs": [],
   "source": [
    "#Finished"
   ]
  }
 ],
 "metadata": {
  "kernelspec": {
   "display_name": "Python 3",
   "language": "python",
   "name": "python3"
  },
  "language_info": {
   "codemirror_mode": {
    "name": "ipython",
    "version": 3
   },
   "file_extension": ".py",
   "mimetype": "text/x-python",
   "name": "python",
   "nbconvert_exporter": "python",
   "pygments_lexer": "ipython3",
   "version": "3.7.0"
  }
 },
 "nbformat": 4,
 "nbformat_minor": 2
}
