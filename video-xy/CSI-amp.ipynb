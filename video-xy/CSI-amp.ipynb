{
 "cells": [
  {
   "cell_type": "code",
   "execution_count": 1,
   "metadata": {},
   "outputs": [],
   "source": [
    "import gc\n",
    "import sys\n",
    "import cv2\n",
    "import progressbar as pb\n",
    "import matplotlib.pyplot as plt\n",
    "import numpy as np\n",
    "from io import BytesIO\n",
    "from common import *"
   ]
  },
  {
   "cell_type": "code",
   "execution_count": 2,
   "metadata": {},
   "outputs": [],
   "source": [
    "# Set File Name\n",
    "fileName = \"csi_noa_1.csv\""
   ]
  },
  {
   "cell_type": "code",
   "execution_count": 3,
   "metadata": {},
   "outputs": [
    {
     "name": "stdout",
     "output_type": "stream",
     "text": [
      "[1/4] Loading CSV ( csi_noa_1.csv ) ...\n",
      "[2/4] Calculating necessary frames...\n"
     ]
    }
   ],
   "source": [
    "# Load CSV & Calculate necessary frames\n",
    "print(\"[1/4] Loading CSV ( \" + fileName + \" ) ...\")\n",
    "nx = getNx(fileName)\n",
    "print(\"[2/4] Calculating necessary frames...\")\n",
    "frameIdx = getNecessaryFrameIdx(nx)\n",
    "frameLen = len(frameIdx)"
   ]
  },
  {
   "cell_type": "code",
   "execution_count": 4,
   "metadata": {},
   "outputs": [
    {
     "name": "stdout",
     "output_type": "stream",
     "text": [
      "[3/4] Creating graphs and converting to cv format...\n"
     ]
    },
    {
     "name": "stderr",
     "output_type": "stream",
     "text": [
      "100% (771 of 771) |######################| Elapsed Time: 0:00:45 Time:  0:00:45\n"
     ]
    },
    {
     "data": {
      "image/png": "[encoded data removed]",
      "text/plain": [
       "<Figure size 432x288 with 1 Axes>"
      ]
     },
     "metadata": {
      "needs_background": "light"
     },
     "output_type": "display_data"
    }
   ],
   "source": [
    "# Calculate graphs\n",
    "print(\"[3/4] Creating graphs and converting to cv format...\")\n",
    "frames = []\n",
    "barIdx = 0\n",
    "plt.ylim(0, 30)\n",
    "with pb.ProgressBar(max_value=frameLen) as bar:\n",
    "    for p in frameIdx:\n",
    "        pltLegend = []\n",
    "        pltFigure = plt.figure()\n",
    "        pltImage = BytesIO()\n",
    "        for i in range(0, int((nx.shape[1] - 1) / 60)):\n",
    "            pltLegend.append(str(i + 1) + 'TR')\n",
    "            pltPlot = plt.plot(nx[p, (1 + 30 * i):(31 + 30 * i)], figure=pltFigure)\n",
    "        plt.xlabel('Subcarriers Group', figure=pltFigure)\n",
    "        plt.ylabel('Amplitude CSI [db]', figure=pltFigure)\n",
    "        pltFigure.legend(pltLegend)\n",
    "        pltFigure.savefig(pltImage, format='png')\n",
    "        plt.close(pltFigure)\n",
    "        pltImage.seek(0)\n",
    "        cvImage = cv2.imdecode(np.asarray(\n",
    "            bytearray(pltImage.read()), dtype=np.uint8), cv2.IMREAD_COLOR)\n",
    "        frames.append(cvImage)\n",
    "        barIdx += 1\n",
    "        bar.update(barIdx)"
   ]
  },
  {
   "cell_type": "code",
   "execution_count": 5,
   "metadata": {},
   "outputs": [
    {
     "name": "stderr",
     "output_type": "stream",
     "text": [
      " 25% (196 of 771) |#####                 | Elapsed Time: 0:00:00 ETA:   0:00:00"
     ]
    },
    {
     "name": "stdout",
     "output_type": "stream",
     "text": [
      "[4/4] Saving in csi_noa_1-amplitude.mp4 ...\n"
     ]
    },
    {
     "name": "stderr",
     "output_type": "stream",
     "text": [
      "100% (771 of 771) |######################| Elapsed Time: 0:00:00 Time:  0:00:00\n"
     ]
    }
   ],
   "source": [
    "# Save as mp4 video\n",
    "videoName = conf.VID_NAME.format(\n",
    "    fileName[:fileName.index('.')], 'amplitude')\n",
    "print(\"[4/4] Saving in \" + videoName + \" ...\")\n",
    "saveVideo(videoName, frames)"
   ]
  },
  {
   "cell_type": "code",
   "execution_count": null,
   "metadata": {},
   "outputs": [],
   "source": [
    "#Finished"
   ]
  }
 ],
 "metadata": {
  "kernelspec": {
   "display_name": "Python 3",
   "language": "python",
   "name": "python3"
  },
  "language_info": {
   "codemirror_mode": {
    "name": "ipython",
    "version": 3
   },
   "file_extension": ".py",
   "mimetype": "text/x-python",
   "name": "python",
   "nbconvert_exporter": "python",
   "pygments_lexer": "ipython3",
   "version": "3.6.7"
  }
 },
 "nbformat": 4,
 "nbformat_minor": 2
}
