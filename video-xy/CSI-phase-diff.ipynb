{
 "cells": [
  {
   "cell_type": "code",
   "execution_count": null,
   "metadata": {},
   "outputs": [],
   "source": [
    "import gc\n",
    "import sys\n",
    "import cv2\n",
    "import progressbar as pb\n",
    "import matplotlib.pyplot as plt\n",
    "import numpy as np\n",
    "from io import BytesIO\n",
    "from common import *"
   ]
  },
  {
   "cell_type": "code",
   "execution_count": null,
   "metadata": {},
   "outputs": [],
   "source": [
    "# Set File Name\n",
    "fileName = \"cs10.csv\"\n",
    "avgBeginTime = 7.71\n",
    "avgEndTime = 8.23"
   ]
  },
  {
   "cell_type": "code",
   "execution_count": null,
   "metadata": {},
   "outputs": [],
   "source": [
    "# Load CSV & Calculate necessary frames\n",
    "print(\"[1/5] Loading CSV ( \" + fileName + \" ) ...\")\n",
    "nx = getNx(fileName)\n",
    "print(\"[2/5] Calculating necessary frames...\")\n",
    "frameIdx = getNecessaryFrameIdx(nx)\n",
    "frameLen = len(frameIdx)"
   ]
  },
  {
   "cell_type": "code",
   "execution_count": null,
   "metadata": {},
   "outputs": [],
   "source": [
    "# Calculate avarage CSI and differences\n",
    "print(\"[3/5] Calculating average CSI...\")\n",
    "cutNx = None\n",
    "beginIdx = 0\n",
    "for idx, row in enumerate(nx):\n",
    "    if row[0] >= avgBeginTime:\n",
    "        beginIdx = idx\n",
    "        break\n",
    "for idx, row in reversed(list(enumerate(nx))):\n",
    "    if row[0] < avgEndTime:\n",
    "        cutNx = nx[beginIdx:idx, :]\n",
    "        break\n",
    "avgPhase = np.mean(cutNx, axis=0)\n",
    "print(\"[4/5] Calculating differences...\")\n",
    "diffNx = np.copy(nx) - avgPhase"
   ]
  },
  {
   "cell_type": "code",
   "execution_count": null,
   "metadata": {},
   "outputs": [],
   "source": [
    "# Calculate graphs\n",
    "print(\"[5/5] Creating graphs and converting to cv format...\")\n",
    "tr = int((nx.shape[1] - 1) / 60)\n",
    "for i in range(0, tr):\n",
    "    frames = []\n",
    "    barIdx = 0\n",
    "    gc.collect()\n",
    "    print(\"  -- Processing \" + str(i + 1) + \" th Tx-Rx Pair...\")\n",
    "    with pb.ProgressBar(max_value=frameLen) as bar:\n",
    "        for p in frameIdx:\n",
    "            pltLegend = []\n",
    "            pltFigure = plt.figure()\n",
    "            pltImage = BytesIO()\n",
    "            pltLegend.append(str(i + 1) + 'TRP')\n",
    "            plt.plot(\n",
    "                diffNx[p, (tr * 30 + 1 + 30 * i):(tr * 30 + 31 + 30 * i)],\n",
    "                color=('C' + str(i)),\n",
    "                figure=pltFigure\n",
    "            )\n",
    "            plt.xlabel('Subcarriers Group', figure=pltFigure)\n",
    "            plt.ylabel('Phase Shift Diff [db]', figure=pltFigure)\n",
    "            pltFigure.legend(pltLegend)\n",
    "            plt.ylim(-10, 10)\n",
    "            pltFigure.savefig(pltImage, format='png')\n",
    "            plt.close(pltFigure)\n",
    "            del pltFigure\n",
    "            del pltLegend\n",
    "            pltImage.seek(0)\n",
    "            cvImage = cv2.imdecode(np.asarray(\n",
    "                bytearray(pltImage.read()), dtype=np.uint8), cv2.IMREAD_COLOR)\n",
    "            frames.append(cvImage)\n",
    "            barIdx += 1\n",
    "            bar.update(barIdx)\n",
    "    # Save as mp4 video\n",
    "    videoName = conf.VID_NAME.format(\n",
    "        sys.argv[1][:sys.argv[1].index('.')], \"phasediff-\" + str(i + 1))\n",
    "    print(\"  -- Saving in \" + videoName + \" ...\")\n",
    "    saveVideo(videoName, frames)\n",
    "    print(\"  -- Delete old data...\")\n",
    "    del frames\n",
    "print(\"Finished!\")"
   ]
  },
  {
   "cell_type": "code",
   "execution_count": null,
   "metadata": {},
   "outputs": [],
   "source": [
    "#Finished"
   ]
  }
 ],
 "metadata": {
  "kernelspec": {
   "display_name": "Python 3",
   "language": "python",
   "name": "python3"
  },
  "language_info": {
   "codemirror_mode": {
    "name": "ipython",
    "version": 3
   },
   "file_extension": ".py",
   "mimetype": "text/x-python",
   "name": "python",
   "nbconvert_exporter": "python",
   "pygments_lexer": "ipython3",
   "version": "3.6.7"
  }
 },
 "nbformat": 4,
 "nbformat_minor": 2
}
