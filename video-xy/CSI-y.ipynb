{
 "cells": [
  {
   "cell_type": "code",
   "execution_count": null,
   "metadata": {},
   "outputs": [],
   "source": [
    "import gc\n",
    "import sys\n",
    "import cv2\n",
    "import progressbar as pb\n",
    "import numpy as np\n",
    "from io import BytesIO\n",
    "from common import *"
   ]
  },
  {
   "cell_type": "code",
   "execution_count": null,
   "metadata": {},
   "outputs": [],
   "source": [
    "# Set File Name\n",
    "fileName = \"as10.csv\""
   ]
  },
  {
   "cell_type": "code",
   "execution_count": null,
   "metadata": {},
   "outputs": [],
   "source": [
    "# Load CSV & Calculate necessary frames\n",
    "print(\"[1/4] Loading CSV ( \" + fileName + \" ) ...\")\n",
    "nx = getNx(fileName)\n",
    "print(\"[2/4] Calculating necessary frames...\")\n",
    "frameIdx = getNecessaryFrameIdx(nx)\n",
    "frameLen = len(frameIdx)"
   ]
  },
  {
   "cell_type": "code",
   "execution_count": null,
   "metadata": {},
   "outputs": [],
   "source": [
    "# Calculate graphs\n",
    "print(\"[3/4] Creating colored y images...\")\n",
    "frames = []\n",
    "barIdx = 0\n",
    "with pb.ProgressBar(max_value=frameLen) as bar:\n",
    "    for p in frameIdx:\n",
    "        if nx[p, 1] == 0:\n",
    "            frames.append(getRed())\n",
    "        else:\n",
    "            frame = np.copy(getGreen())\n",
    "            cv2.putText(\n",
    "                frame,\n",
    "                conf.ACTIONS[int(nx[p, 1] - 1)],\n",
    "                (30, conf.VID_CSIY_Y - 15 * conf.VID_FONTSIZE),\n",
    "                conf.VID_FONT,\n",
    "                conf.VID_FONTSIZE,\n",
    "                (0, 0, 0),\n",
    "                10\n",
    "            )\n",
    "            frames.append(frame)\n",
    "        barIdx += 1\n",
    "        bar.update(barIdx)"
   ]
  },
  {
   "cell_type": "code",
   "execution_count": null,
   "metadata": {},
   "outputs": [],
   "source": [
    "# Save as mp4 video\n",
    "videoName = conf.VID_NAME.format(\n",
    "    fileName[:fileName.index('.')], 'y')\n",
    "print(\"[4/4] Saving in \" + videoName + \" ...\")\n",
    "saveVideo(videoName, frames)"
   ]
  },
  {
   "cell_type": "code",
   "execution_count": null,
   "metadata": {},
   "outputs": [],
   "source": [
    "#Finished"
   ]
  }
 ],
 "metadata": {
  "kernelspec": {
   "display_name": "Python 3",
   "language": "python",
   "name": "python3"
  },
  "language_info": {
   "codemirror_mode": {
    "name": "ipython",
    "version": 3
   },
   "file_extension": ".py",
   "mimetype": "text/x-python",
   "name": "python",
   "nbconvert_exporter": "python",
   "pygments_lexer": "ipython3",
   "version": "3.7.0"
  }
 },
 "nbformat": 4,
 "nbformat_minor": 2
}
