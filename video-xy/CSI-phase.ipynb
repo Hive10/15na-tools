{
 "cells": [
  {
   "cell_type": "code",
   "execution_count": null,
   "metadata": {},
   "outputs": [],
   "source": [
    "import gc\n",
    "import sys\n",
    "import cv2\n",
    "import progressbar as pb\n",
    "import matplotlib.pyplot as plt\n",
    "import numpy as np\n",
    "from io import BytesIO\n",
    "from common import *"
   ]
  },
  {
   "cell_type": "code",
   "execution_count": null,
   "metadata": {},
   "outputs": [],
   "source": [
    "# Set File Name\n",
    "fileName = \"cs10.csv\""
   ]
  },
  {
   "cell_type": "code",
   "execution_count": null,
   "metadata": {},
   "outputs": [],
   "source": [
    "# Load CSV & Calculate necessary frames\n",
    "print(\"[1/4] Loading CSV ( \" + fileName + \" ) ...\")\n",
    "nx = getNx(fileName)\n",
    "print(\"[2/4] Calculating necessary frames...\")\n",
    "frameIdx = getNecessaryFrameIdx(nx)\n",
    "frameLen = len(frameIdx)"
   ]
  },
  {
   "cell_type": "code",
   "execution_count": null,
   "metadata": {},
   "outputs": [],
   "source": [
    "# Calculate graphs\n",
    "print(\"[3/4] Creating graphs and converting to cv format...\")\n",
    "frames = []\n",
    "barIdx = 0\n",
    "tr = int((nx.shape[1] - 1) / 60)\n",
    "with pb.ProgressBar(max_value=frameLen) as bar:\n",
    "    for p in frameIdx:\n",
    "        pltLegend = []\n",
    "        pltFigure = plt.figure()\n",
    "        pltImage = BytesIO()\n",
    "        for i in range(0, tr):\n",
    "            pltLegend.append(str(i + 1) + ' TRP')  # Tx-Rx Pair\n",
    "            pltPlot = plt.plot(nx[p, (tr * 30 + 1 + 30 * i):(tr * 30 + 31 + 30 * i)], figure=pltFigure)\n",
    "            plt.xlabel('Subcarriers Group', figure=pltFigure)\n",
    "            plt.ylabel('Phase [db]', figure=pltFigure)\n",
    "        pltFigure.legend(pltLegend)\n",
    "        plt.ylim(0, 20)\n",
    "        pltFigure.savefig(pltImage, format='png')\n",
    "        plt.close(pltFigure)\n",
    "        pltImage.seek(0)\n",
    "        cvImage = cv2.imdecode(np.asarray(\n",
    "            bytearray(pltImage.read()), dtype=np.uint8), cv2.IMREAD_COLOR)\n",
    "        frames.append(cvImage)\n",
    "        barIdx += 1\n",
    "        bar.update(barIdx)"
   ]
  },
  {
   "cell_type": "code",
   "execution_count": null,
   "metadata": {},
   "outputs": [],
   "source": [
    "# Save as mp4 video\n",
    "videoName = conf.VID_NAME.format(\n",
    "    fileName[:fileName.index('.')], 'phase')\n",
    "print(\"[4/4] Saving in \" + videoName + \" ...\")\n",
    "saveVideo(videoName, frames)"
   ]
  },
  {
   "cell_type": "code",
   "execution_count": null,
   "metadata": {},
   "outputs": [],
   "source": [
    "#Finished"
   ]
  }
 ],
 "metadata": {
  "kernelspec": {
   "display_name": "Python 3",
   "language": "python",
   "name": "python3"
  },
  "language_info": {
   "codemirror_mode": {
    "name": "ipython",
    "version": 3
   },
   "file_extension": ".py",
   "mimetype": "text/x-python",
   "name": "python",
   "nbconvert_exporter": "python",
   "pygments_lexer": "ipython3",
   "version": "3.7.0"
  }
 },
 "nbformat": 4,
 "nbformat_minor": 2
}
